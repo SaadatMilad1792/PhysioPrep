{
 "cells": [
  {
   "cell_type": "markdown",
   "id": "ef239679",
   "metadata": {},
   "source": [
    "#### Install physioprep"
   ]
  },
  {
   "cell_type": "code",
   "execution_count": null,
   "id": "b53de490",
   "metadata": {},
   "outputs": [],
   "source": [
    "!pip install physioprep"
   ]
  },
  {
   "cell_type": "markdown",
   "id": "d8474a66",
   "metadata": {},
   "source": [
    "#### Import physioprep and create an instance of M3WaveFormMasterClass"
   ]
  },
  {
   "cell_type": "code",
   "execution_count": null,
   "id": "ea51a310",
   "metadata": {},
   "outputs": [],
   "source": [
    "import physioprep as pp\n",
    "import matplotlib.pyplot as plt\n",
    "print(pp.__version__)\n",
    "module = pp.M3WaveFormMasterClass()"
   ]
  },
  {
   "cell_type": "markdown",
   "id": "2ce30c05",
   "metadata": {},
   "source": [
    "#### Use case of get_data_batch"
   ]
  },
  {
   "cell_type": "code",
   "execution_count": null,
   "id": "6aa779bc",
   "metadata": {},
   "outputs": [],
   "source": [
    "df = module.preset_metadata\n",
    "inp_channels, out_channels = [\"II\", \"PLETH\"], [\"ABP\"]\n",
    "df = module.get_patient_with_signal(df, inp_channels = inp_channels, inp_type = \"any\",\n",
    "                                    out_channels = out_channels, out_type = \"all\", min_samples = 20000)\n",
    "tr, va, te = pp.get_subject_split(df, [0.8, 0.1, 0.1])\n",
    "batch, channels, masks = module.get_data_batch(df, batch_size = 1, seq_len = 750, channels = inp_channels + out_channels, sample_res = 32, num_cores = 4)"
   ]
  },
  {
   "cell_type": "markdown",
   "id": "d622b22a",
   "metadata": {},
   "source": [
    "#### Plot the extracted waveforms"
   ]
  },
  {
   "cell_type": "code",
   "execution_count": null,
   "id": "875f854b",
   "metadata": {},
   "outputs": [],
   "source": [
    "import matplotlib.pyplot as plt\n",
    "fig, ax = plt.subplots(1, 3, figsize = (16, 4))\n",
    "ax[0].plot(batch[0, 0])\n",
    "ax[1].plot(batch[0, 1])\n",
    "ax[2].plot(batch[0, 2])"
   ]
  }
 ],
 "metadata": {
  "kernelspec": {
   "display_name": "physioprep",
   "language": "python",
   "name": "python3"
  },
  "language_info": {
   "codemirror_mode": {
    "name": "ipython",
    "version": 3
   },
   "file_extension": ".py",
   "mimetype": "text/x-python",
   "name": "python",
   "nbconvert_exporter": "python",
   "pygments_lexer": "ipython3",
   "version": "3.10.18"
  }
 },
 "nbformat": 4,
 "nbformat_minor": 5
}
